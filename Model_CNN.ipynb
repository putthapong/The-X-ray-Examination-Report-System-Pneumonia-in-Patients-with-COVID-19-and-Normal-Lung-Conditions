{
  "nbformat": 4,
  "nbformat_minor": 0,
  "metadata": {
    "colab": {
      "provenance": [],
      "collapsed_sections": []
    },
    "kernelspec": {
      "name": "python3",
      "display_name": "Python 3"
    },
    "language_info": {
      "name": "python"
    }
  },
  "cells": [
    {
      "cell_type": "markdown",
      "source": [
        "<h1> โปรแกรมการอัปโหลดภาพ\n"
      ],
      "metadata": {
        "id": "Y6HVKQxnHhMc"
      }
    },
    {
      "cell_type": "code",
      "execution_count": null,
      "metadata": {
        "id": "GQ1rT8DXHfEh"
      },
      "outputs": [],
      "source": [
        "from PyQt5.QtWidgets import QFileDialog\n",
        "import cv2\n",
        "def importfile(self):\n",
        "        Filename = QFileDialog.getOpenFileName(self,'Open Image','',\n",
        "        'ImageFiles (*.png *.jpg *.jpeg)')\n",
        "        img = cv2.imread(Filename[0])\n",
        "        img = cv2.resize(img ,(224,224))"
      ]
    },
    {
      "cell_type": "markdown",
      "source": [
        "<h1> โปรแกรมการประมวลผลภาพ"
      ],
      "metadata": {
        "id": "JKV2zXJMHoWl"
      }
    },
    {
      "cell_type": "code",
      "source": [
        "import numpy as np\n",
        "import cv2\n",
        "img = cv2.cvtColor(img,cv2.COLOR_BGR2GRAY)\n",
        "rimg = np.array(img)\n",
        "rimg = rimg.astype('float32')\n",
        "rimg /= 255\n",
        "rimg = np.reshape(rimg ,(1,224,224,1))"
      ],
      "metadata": {
        "id": "Ha4gAJEkHgck"
      },
      "execution_count": null,
      "outputs": []
    },
    {
      "cell_type": "markdown",
      "source": [
        "<h1>โปรแกรมการจำแนกกลุ่มของภาพด้วยเทคนิคโครงข่ายประสาทเทียมแบบคอนโวลูชัน\n",
        "\n",
        "  - โค้ดการทำ Preprocess data ไว้สำหรับ Train โมเดล\n",
        "ซึ่งเป็นส่วนของขั้นตอนดำเนินงาน อัปโหลดไฟล์ภาพและการประมวลผลภาพ"
      ],
      "metadata": {
        "id": "1Ho-Y2lzH8au"
      }
    },
    {
      "cell_type": "code",
      "source": [
        "TRAIN_DIR = ['data/PNEUMONIA','data/NORMAL','data/COVID-19']\n",
        "TEST_DIR = ['test/PNEUMONIA', test/NORMAL', 'test/COVID-19']\n",
        "def create_train_data(DIR):\n",
        "        rawImgs = []\n",
        "        labels = []\n",
        "        for imagePath in DIR:\n",
        "            for item in tqdm(os.listdir(imagePath)):\n",
        "               file = os.path.join(imagePath, item)\n",
        "                  if file[-1] == 'g':\n",
        "                    name = imagePath.split('/')[-1]\n",
        "                    if name == 'PNEUMONIA':\n",
        "                       labels.append([1,0,0])\n",
        "                    elif name == 'NORMAL':\n",
        "                       labels.append([0,1,0])\n",
        "                    else :\n",
        "                       labels.append([0,0,1])\n",
        "                    img = cv2.imread(file)\n",
        "                    img = cv2.resize(img ,(224,224))\n",
        "                    img = cv2.cvtColor(img,cv2.COLOR_BGR2GRAY)\n",
        "                    rawImgs.append(img)\n",
        "          return rawImgs, labels\n",
        "\n",
        "x_train,y_train = create_train_data(TRAIN_DIR)\n",
        "x_test,y_test = create_train_data(TEST_DIR)\n",
        "x_train = np.array(x_train)\n",
        "y_train = np.array(y_train)\n",
        "x_test = np.array(x_test)\n",
        "y_test = np.array(y_test)\n",
        "x_train = x_train.astype('float32')\n",
        "x_test = x_test.astype('float32')\n",
        "x_train /= 255\n",
        "x_test /= 255"
      ],
      "metadata": {
        "id": "MBcqdbhYH4mr"
      },
      "execution_count": null,
      "outputs": []
    },
    {
      "cell_type": "markdown",
      "source": [
        "  - โค้ดการสร้างโมเดล"
      ],
      "metadata": {
        "id": "98Ro7rrIH8BM"
      }
    },
    {
      "cell_type": "code",
      "source": [
        "model = tf.keras.Sequential([\n",
        "       tf.keras.layers.Conv2D(64, (3,3), activation='relu', input_shape=(224, 224, 1)),\n",
        "       tf.keras.layers.Conv2D(64,(3,3) , activation='relu'),\n",
        "       tf.keras.layers.MaxPooling2D(pool_size=(2, 2)),\n",
        "       tf.keras.layers.Conv2D(128,(3,3) , activation='relu'),\n",
        "       tf.keras.layers.Conv2D(128,(3,3) , activation='relu'),\n",
        "       tf.keras.layers.MaxPooling2D(pool_size=(2,2 )),\n",
        "       tf.keras.layers.Conv2D(256,(3,3) , activation='relu'),\n",
        "       tf.keras.layers.Conv2D(256,(3,3) , activation='relu'),\n",
        "       tf.keras.layers.MaxPooling2D(pool_size=(2,2 )),\n",
        "       tf.keras.layers.Conv2D(512,(3,3) , activation='relu'),\n",
        "       tf.keras.layers.Conv2D(512,(3,3) , activation='relu'),\n",
        "       tf.keras.layers.MaxPooling2D(pool_size=(2,2 )),\n",
        "       tf.keras.layers.Flatten(),\n",
        "       tf.keras.layers.Dense(64,activation=’relu’),\n",
        "       tf.keras.layers.Dense(32,activation=’relu’),\n",
        "       tf.keras.layers.Dense(16,activation=’relu’),\n",
        "       tf.keras.layers.Dense(8,activation=’relu’),\n",
        "       tf.keras.layers.Dense(3,activation=’softmax’)])\n",
        "    ])\n",
        "model.compile(optimizer=tf.keras.optimizers.Adam(lr=0.0001), loss='categorical_crossentropy',metrics= ['accuracy'])\n",
        "batch_size = 8\n",
        "epochs = 50\n",
        "history = model.fit(x_train,y_train ,batch_size=batch_size, epochs=epochs, validation_data=(x_test, y_test))\n",
        "filepath='modelCovid.h5'\n",
        "model.save(filepath)"
      ],
      "metadata": {
        "id": "olJPbgvTIX3Q"
      },
      "execution_count": null,
      "outputs": []
    },
    {
      "cell_type": "markdown",
      "source": [
        "  - โค้ดการโหลดโมเดล CNN ที่ผ่านการเรียนรู้มาใช้งาน"
      ],
      "metadata": {
        "id": "JkYHdiIbIa-9"
      }
    },
    {
      "cell_type": "code",
      "source": [
        "path = 'modelCovid.h5'\n",
        "model = load_model(path) \n",
        "img = cv2.imread(file)\n",
        "img = cv2.resize(img ,(224,224)) \n",
        "img = cv2.cvtColor(img,cv2.COLOR_BGR2GRAY)    \n",
        "rimg = np.array(img)\n",
        "rimg = rimg.astype('float32')\n",
        "rimg /= 255\n",
        "rimg = np.reshape(rimg ,(1,224,224,1))\n",
        "predict = model.predict(rimg)\n",
        "label = ['PNEUMONIA','NORMAL','COVID-19']\n",
        "result = label[np.argmax(predict)]\n",
        "print(predict)\n",
        "print('real:'+str(item))\n",
        "print('predict:'+str(result))"
      ],
      "metadata": {
        "id": "7iCKYXztIZ4v"
      },
      "execution_count": null,
      "outputs": []
    },
    {
      "cell_type": "markdown",
      "source": [],
      "metadata": {
        "id": "VM6CJOiwIqfc"
      }
    }
  ]
}